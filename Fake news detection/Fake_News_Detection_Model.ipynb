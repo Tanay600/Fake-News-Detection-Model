{
 "cells": [
  {
   "cell_type": "code",
   "execution_count": 1,
   "id": "9e0defb9",
   "metadata": {},
   "outputs": [],
   "source": [
    "import numpy as np\n",
    "import pandas as pd\n",
    "%matplotlib inline\n",
    "from matplotlib import pyplot as plt\n",
    "import seaborn as sns"
   ]
  },
  {
   "cell_type": "code",
   "execution_count": 2,
   "id": "3d0676d4",
   "metadata": {},
   "outputs": [],
   "source": [
    "News = pd.read_csv(\"fake_or_real_news.csv\")"
   ]
  },
  {
   "cell_type": "code",
   "execution_count": 3,
   "id": "556a11df",
   "metadata": {},
   "outputs": [
    {
     "data": {
      "text/html": [
       "<div>\n",
       "<style scoped>\n",
       "    .dataframe tbody tr th:only-of-type {\n",
       "        vertical-align: middle;\n",
       "    }\n",
       "\n",
       "    .dataframe tbody tr th {\n",
       "        vertical-align: top;\n",
       "    }\n",
       "\n",
       "    .dataframe thead th {\n",
       "        text-align: right;\n",
       "    }\n",
       "</style>\n",
       "<table border=\"1\" class=\"dataframe\">\n",
       "  <thead>\n",
       "    <tr style=\"text-align: right;\">\n",
       "      <th></th>\n",
       "      <th>Unnamed: 0</th>\n",
       "      <th>title</th>\n",
       "      <th>text</th>\n",
       "      <th>label</th>\n",
       "    </tr>\n",
       "  </thead>\n",
       "  <tbody>\n",
       "    <tr>\n",
       "      <th>0</th>\n",
       "      <td>8476</td>\n",
       "      <td>You Can Smell Hillary’s Fear</td>\n",
       "      <td>Daniel Greenfield, a Shillman Journalism Fello...</td>\n",
       "      <td>FAKE</td>\n",
       "    </tr>\n",
       "    <tr>\n",
       "      <th>1</th>\n",
       "      <td>10294</td>\n",
       "      <td>Watch The Exact Moment Paul Ryan Committed Pol...</td>\n",
       "      <td>Google Pinterest Digg Linkedin Reddit Stumbleu...</td>\n",
       "      <td>FAKE</td>\n",
       "    </tr>\n",
       "    <tr>\n",
       "      <th>2</th>\n",
       "      <td>3608</td>\n",
       "      <td>Kerry to go to Paris in gesture of sympathy</td>\n",
       "      <td>U.S. Secretary of State John F. Kerry said Mon...</td>\n",
       "      <td>REAL</td>\n",
       "    </tr>\n",
       "    <tr>\n",
       "      <th>3</th>\n",
       "      <td>10142</td>\n",
       "      <td>Bernie supporters on Twitter erupt in anger ag...</td>\n",
       "      <td>— Kaydee King (@KaydeeKing) November 9, 2016 T...</td>\n",
       "      <td>FAKE</td>\n",
       "    </tr>\n",
       "    <tr>\n",
       "      <th>4</th>\n",
       "      <td>875</td>\n",
       "      <td>The Battle of New York: Why This Primary Matters</td>\n",
       "      <td>It's primary day in New York and front-runners...</td>\n",
       "      <td>REAL</td>\n",
       "    </tr>\n",
       "  </tbody>\n",
       "</table>\n",
       "</div>"
      ],
      "text/plain": [
       "   Unnamed: 0                                              title  \\\n",
       "0        8476                       You Can Smell Hillary’s Fear   \n",
       "1       10294  Watch The Exact Moment Paul Ryan Committed Pol...   \n",
       "2        3608        Kerry to go to Paris in gesture of sympathy   \n",
       "3       10142  Bernie supporters on Twitter erupt in anger ag...   \n",
       "4         875   The Battle of New York: Why This Primary Matters   \n",
       "\n",
       "                                                text label  \n",
       "0  Daniel Greenfield, a Shillman Journalism Fello...  FAKE  \n",
       "1  Google Pinterest Digg Linkedin Reddit Stumbleu...  FAKE  \n",
       "2  U.S. Secretary of State John F. Kerry said Mon...  REAL  \n",
       "3  — Kaydee King (@KaydeeKing) November 9, 2016 T...  FAKE  \n",
       "4  It's primary day in New York and front-runners...  REAL  "
      ]
     },
     "execution_count": 3,
     "metadata": {},
     "output_type": "execute_result"
    }
   ],
   "source": [
    "News.head()"
   ]
  },
  {
   "cell_type": "code",
   "execution_count": 4,
   "id": "d95360c4",
   "metadata": {},
   "outputs": [
    {
     "data": {
      "text/plain": [
       "(6335, 4)"
      ]
     },
     "execution_count": 4,
     "metadata": {},
     "output_type": "execute_result"
    }
   ],
   "source": [
    "News.shape"
   ]
  },
  {
   "cell_type": "code",
   "execution_count": 5,
   "id": "26f0ecce",
   "metadata": {},
   "outputs": [
    {
     "data": {
      "text/plain": [
       "Unnamed: 0     int64\n",
       "title         object\n",
       "text          object\n",
       "label         object\n",
       "dtype: object"
      ]
     },
     "execution_count": 5,
     "metadata": {},
     "output_type": "execute_result"
    }
   ],
   "source": [
    "News.dtypes"
   ]
  },
  {
   "cell_type": "markdown",
   "id": "020d096a",
   "metadata": {},
   "source": [
    "**All Columns have correct datatypes.**"
   ]
  },
  {
   "cell_type": "markdown",
   "id": "b0fc0808",
   "metadata": {},
   "source": [
    "# Visualization before Pre Processing :-"
   ]
  },
  {
   "cell_type": "markdown",
   "id": "a2cfb287",
   "metadata": {},
   "source": [
    "**BARPLOT :-**"
   ]
  },
  {
   "cell_type": "code",
   "execution_count": 6,
   "id": "ae3ec6fe",
   "metadata": {},
   "outputs": [
    {
     "data": {
      "image/png": "[encoded data removed]",
      "text/plain": [
       "<Figure size 600x400 with 1 Axes>"
      ]
     },
     "metadata": {},
     "output_type": "display_data"
    }
   ],
   "source": [
    "# Count the occurrences of each label\n",
    "label_counts = News['label'].value_counts()\n",
    "\n",
    "# Plot the bar plot\n",
    "plt.figure(figsize=(6, 4))\n",
    "plt.bar(label_counts.index, label_counts.values, color=['blue', 'green'])\n",
    "plt.xlabel('Label')\n",
    "plt.ylabel('Number of News Articles')\n",
    "plt.title('Distribution of Fake and Real News')\n",
    "plt.xticks(rotation=45)\n",
    "plt.show()"
   ]
  },
  {
   "cell_type": "markdown",
   "id": "ad09e14d",
   "metadata": {},
   "source": [
    "**PIE CHART :-**"
   ]
  },
  {
   "cell_type": "code",
   "execution_count": 7,
   "id": "cd2eb578",
   "metadata": {},
   "outputs": [
    {
     "data": {
      "image/png": "[encoded data removed]",
      "text/plain": [
       "<Figure size 600x600 with 1 Axes>"
      ]
     },
     "metadata": {},
     "output_type": "display_data"
    }
   ],
   "source": [
    "# Count the occurrences of each label\n",
    "label_counts = News['label'].value_counts()\n",
    "\n",
    "# Plot the pie chart\n",
    "plt.figure(figsize=(6, 6))\n",
    "plt.pie(label_counts, labels=label_counts.index, autopct='%1.1f%%', colors=['blue', 'green'], startangle=140)\n",
    "plt.title('Distribution of Fake and Real News')\n",
    "plt.show()"
   ]
  },
  {
   "cell_type": "code",
   "execution_count": 8,
   "id": "4e6a29d7",
   "metadata": {},
   "outputs": [
    {
     "name": "stdout",
     "output_type": "stream",
     "text": [
      "Total Fake News: 3164\n",
      "Total Real News: 3171\n"
     ]
    }
   ],
   "source": [
    "# Count the occurrences of each label\n",
    "label_counts = News['label'].value_counts()\n",
    "\n",
    "# Get the total count of fake and real news\n",
    "total_fake_news = label_counts['FAKE']\n",
    "total_real_news = label_counts['REAL']\n",
    "\n",
    "print(\"Total Fake News:\", total_fake_news)\n",
    "print(\"Total Real News:\", total_real_news)\n"
   ]
  },
  {
   "cell_type": "markdown",
   "id": "1ce8e09d",
   "metadata": {},
   "source": [
    "# Data Cleaning:-"
   ]
  },
  {
   "cell_type": "markdown",
   "id": "65b16bf4",
   "metadata": {},
   "source": [
    "Since, We do not need unnamed column for our Model so we are going to drop it."
   ]
  },
  {
   "cell_type": "code",
   "execution_count": 9,
   "id": "1225a3e6",
   "metadata": {},
   "outputs": [],
   "source": [
    "# Drop the 'Unnamed: 0' column\n",
    "News = News.drop(columns=['Unnamed: 0'])"
   ]
  },
  {
   "cell_type": "code",
   "execution_count": 10,
   "id": "ecd18fe8",
   "metadata": {},
   "outputs": [
    {
     "data": {
      "text/html": [
       "<div>\n",
       "<style scoped>\n",
       "    .dataframe tbody tr th:only-of-type {\n",
       "        vertical-align: middle;\n",
       "    }\n",
       "\n",
       "    .dataframe tbody tr th {\n",
       "        vertical-align: top;\n",
       "    }\n",
       "\n",
       "    .dataframe thead th {\n",
       "        text-align: right;\n",
       "    }\n",
       "</style>\n",
       "<table border=\"1\" class=\"dataframe\">\n",
       "  <thead>\n",
       "    <tr style=\"text-align: right;\">\n",
       "      <th></th>\n",
       "      <th>title</th>\n",
       "      <th>text</th>\n",
       "      <th>label</th>\n",
       "    </tr>\n",
       "  </thead>\n",
       "  <tbody>\n",
       "    <tr>\n",
       "      <th>0</th>\n",
       "      <td>You Can Smell Hillary’s Fear</td>\n",
       "      <td>Daniel Greenfield, a Shillman Journalism Fello...</td>\n",
       "      <td>FAKE</td>\n",
       "    </tr>\n",
       "    <tr>\n",
       "      <th>1</th>\n",
       "      <td>Watch The Exact Moment Paul Ryan Committed Pol...</td>\n",
       "      <td>Google Pinterest Digg Linkedin Reddit Stumbleu...</td>\n",
       "      <td>FAKE</td>\n",
       "    </tr>\n",
       "    <tr>\n",
       "      <th>2</th>\n",
       "      <td>Kerry to go to Paris in gesture of sympathy</td>\n",
       "      <td>U.S. Secretary of State John F. Kerry said Mon...</td>\n",
       "      <td>REAL</td>\n",
       "    </tr>\n",
       "    <tr>\n",
       "      <th>3</th>\n",
       "      <td>Bernie supporters on Twitter erupt in anger ag...</td>\n",
       "      <td>— Kaydee King (@KaydeeKing) November 9, 2016 T...</td>\n",
       "      <td>FAKE</td>\n",
       "    </tr>\n",
       "    <tr>\n",
       "      <th>4</th>\n",
       "      <td>The Battle of New York: Why This Primary Matters</td>\n",
       "      <td>It's primary day in New York and front-runners...</td>\n",
       "      <td>REAL</td>\n",
       "    </tr>\n",
       "  </tbody>\n",
       "</table>\n",
       "</div>"
      ],
      "text/plain": [
       "                                               title  \\\n",
       "0                       You Can Smell Hillary’s Fear   \n",
       "1  Watch The Exact Moment Paul Ryan Committed Pol...   \n",
       "2        Kerry to go to Paris in gesture of sympathy   \n",
       "3  Bernie supporters on Twitter erupt in anger ag...   \n",
       "4   The Battle of New York: Why This Primary Matters   \n",
       "\n",
       "                                                text label  \n",
       "0  Daniel Greenfield, a Shillman Journalism Fello...  FAKE  \n",
       "1  Google Pinterest Digg Linkedin Reddit Stumbleu...  FAKE  \n",
       "2  U.S. Secretary of State John F. Kerry said Mon...  REAL  \n",
       "3  — Kaydee King (@KaydeeKing) November 9, 2016 T...  FAKE  \n",
       "4  It's primary day in New York and front-runners...  REAL  "
      ]
     },
     "execution_count": 10,
     "metadata": {},
     "output_type": "execute_result"
    }
   ],
   "source": [
    "News.head()"
   ]
  },
  {
   "cell_type": "code",
   "execution_count": 11,
   "id": "5e522a9e",
   "metadata": {},
   "outputs": [
    {
     "data": {
      "text/plain": [
       "array(['FAKE', 'REAL'], dtype=object)"
      ]
     },
     "execution_count": 11,
     "metadata": {},
     "output_type": "execute_result"
    }
   ],
   "source": [
    "News[\"label\"].unique()          #checks the unique values in a particular column"
   ]
  },
  {
   "cell_type": "markdown",
   "id": "3ea76929",
   "metadata": {},
   "source": [
    "**Since \"label\" column is nominal data which has 2 distinct categories Fake and Real**\n",
    "\n",
    "So, we can convert nominal data into numeric data type"
   ]
  },
  {
   "cell_type": "code",
   "execution_count": 12,
   "id": "b25b1cae",
   "metadata": {},
   "outputs": [],
   "source": [
    "# Create a new column 'label_numeric' with numeric values\n",
    "News['label_numeric'] = News['label'].map({'FAKE': 1, 'REAL': 0})\n"
   ]
  },
  {
   "cell_type": "code",
   "execution_count": 13,
   "id": "ffafe0f7",
   "metadata": {},
   "outputs": [
    {
     "data": {
      "text/html": [
       "<div>\n",
       "<style scoped>\n",
       "    .dataframe tbody tr th:only-of-type {\n",
       "        vertical-align: middle;\n",
       "    }\n",
       "\n",
       "    .dataframe tbody tr th {\n",
       "        vertical-align: top;\n",
       "    }\n",
       "\n",
       "    .dataframe thead th {\n",
       "        text-align: right;\n",
       "    }\n",
       "</style>\n",
       "<table border=\"1\" class=\"dataframe\">\n",
       "  <thead>\n",
       "    <tr style=\"text-align: right;\">\n",
       "      <th></th>\n",
       "      <th>title</th>\n",
       "      <th>text</th>\n",
       "      <th>label</th>\n",
       "      <th>label_numeric</th>\n",
       "    </tr>\n",
       "  </thead>\n",
       "  <tbody>\n",
       "    <tr>\n",
       "      <th>0</th>\n",
       "      <td>You Can Smell Hillary’s Fear</td>\n",
       "      <td>Daniel Greenfield, a Shillman Journalism Fello...</td>\n",
       "      <td>FAKE</td>\n",
       "      <td>1</td>\n",
       "    </tr>\n",
       "    <tr>\n",
       "      <th>1</th>\n",
       "      <td>Watch The Exact Moment Paul Ryan Committed Pol...</td>\n",
       "      <td>Google Pinterest Digg Linkedin Reddit Stumbleu...</td>\n",
       "      <td>FAKE</td>\n",
       "      <td>1</td>\n",
       "    </tr>\n",
       "    <tr>\n",
       "      <th>2</th>\n",
       "      <td>Kerry to go to Paris in gesture of sympathy</td>\n",
       "      <td>U.S. Secretary of State John F. Kerry said Mon...</td>\n",
       "      <td>REAL</td>\n",
       "      <td>0</td>\n",
       "    </tr>\n",
       "    <tr>\n",
       "      <th>3</th>\n",
       "      <td>Bernie supporters on Twitter erupt in anger ag...</td>\n",
       "      <td>— Kaydee King (@KaydeeKing) November 9, 2016 T...</td>\n",
       "      <td>FAKE</td>\n",
       "      <td>1</td>\n",
       "    </tr>\n",
       "    <tr>\n",
       "      <th>4</th>\n",
       "      <td>The Battle of New York: Why This Primary Matters</td>\n",
       "      <td>It's primary day in New York and front-runners...</td>\n",
       "      <td>REAL</td>\n",
       "      <td>0</td>\n",
       "    </tr>\n",
       "  </tbody>\n",
       "</table>\n",
       "</div>"
      ],
      "text/plain": [
       "                                               title  \\\n",
       "0                       You Can Smell Hillary’s Fear   \n",
       "1  Watch The Exact Moment Paul Ryan Committed Pol...   \n",
       "2        Kerry to go to Paris in gesture of sympathy   \n",
       "3  Bernie supporters on Twitter erupt in anger ag...   \n",
       "4   The Battle of New York: Why This Primary Matters   \n",
       "\n",
       "                                                text label  label_numeric  \n",
       "0  Daniel Greenfield, a Shillman Journalism Fello...  FAKE              1  \n",
       "1  Google Pinterest Digg Linkedin Reddit Stumbleu...  FAKE              1  \n",
       "2  U.S. Secretary of State John F. Kerry said Mon...  REAL              0  \n",
       "3  — Kaydee King (@KaydeeKing) November 9, 2016 T...  FAKE              1  \n",
       "4  It's primary day in New York and front-runners...  REAL              0  "
      ]
     },
     "execution_count": 13,
     "metadata": {},
     "output_type": "execute_result"
    }
   ],
   "source": [
    "News.head()"
   ]
  },
  {
   "cell_type": "markdown",
   "id": "1b92d520",
   "metadata": {},
   "source": [
    "**1 => FAKE**\n",
    "\n",
    "\n",
    "**0 => REAL**"
   ]
  },
  {
   "cell_type": "markdown",
   "id": "4730e6ad",
   "metadata": {},
   "source": [
    "**Checking for the NULL Values in dataset :-**"
   ]
  },
  {
   "cell_type": "code",
   "execution_count": 14,
   "id": "9efd6e61",
   "metadata": {},
   "outputs": [
    {
     "data": {
      "text/plain": [
       "title            0\n",
       "text             0\n",
       "label            0\n",
       "label_numeric    0\n",
       "dtype: int64"
      ]
     },
     "execution_count": 14,
     "metadata": {},
     "output_type": "execute_result"
    }
   ],
   "source": [
    "News.isnull().sum()"
   ]
  },
  {
   "cell_type": "code",
   "execution_count": 15,
   "id": "cefe6e66",
   "metadata": {},
   "outputs": [
    {
     "name": "stdout",
     "output_type": "stream",
     "text": [
      "<class 'pandas.core.frame.DataFrame'>\n",
      "RangeIndex: 6335 entries, 0 to 6334\n",
      "Data columns (total 4 columns):\n",
      " #   Column         Non-Null Count  Dtype \n",
      "---  ------         --------------  ----- \n",
      " 0   title          6335 non-null   object\n",
      " 1   text           6335 non-null   object\n",
      " 2   label          6335 non-null   object\n",
      " 3   label_numeric  6335 non-null   int64 \n",
      "dtypes: int64(1), object(3)\n",
      "memory usage: 198.1+ KB\n"
     ]
    }
   ],
   "source": [
    "# Display summary information of the dataset\n",
    "News.info()"
   ]
  },
  {
   "cell_type": "markdown",
   "id": "9248f783",
   "metadata": {},
   "source": [
    "**No missing values or null values are there inside our dataset**"
   ]
  },
  {
   "cell_type": "markdown",
   "id": "8f52051f",
   "metadata": {},
   "source": [
    "**FINDING THE DUPLICATE ROWS**"
   ]
  },
  {
   "cell_type": "code",
   "execution_count": 16,
   "id": "fc8ff7e7",
   "metadata": {},
   "outputs": [
    {
     "name": "stdout",
     "output_type": "stream",
     "text": [
      "                                                  title  \\\n",
      "1492  University of Missouri, please immediately fir...   \n",
      "1954  Loretta Lynch becomes first African-American w...   \n",
      "2336  Obamacare Enrollees Anxiously Await Supreme Co...   \n",
      "2856  Donald Trump is blatantly racist — and the med...   \n",
      "2952       Black Agenda Report for Week of Oct 31, 2016   \n",
      "3081    The College Loan Bombshell Hidden in the Budget   \n",
      "3292  This astonishing chart shows how moderate Repu...   \n",
      "3301                      OnPolitics | 's politics blog   \n",
      "3324  Senate GOP prepared to replace Obamacare subsi...   \n",
      "4140  We Republicans Lost On Gay Rights. That’s A Go...   \n",
      "4405  Paintings 'almost no one else seemed to be doing'   \n",
      "4885  An Open Letter to Black South African Police O...   \n",
      "4971      US faces calls to ‘walk away’ from Iran talks   \n",
      "5083     Fighting Ghost Fascists While Aiding Real Ones   \n",
      "5105  Clinton clinches Democratic nomination – Sande...   \n",
      "5127                      OnPolitics | 's politics blog   \n",
      "5414  Do Democrats Want What Bernie Wants, Or Just W...   \n",
      "5417        Black Agenda Radio for Week of Nov. 7, 2016   \n",
      "5478  FEAR OF TRUMP: BUSH, OBAMA, CLINTON ALL BUYING...   \n",
      "5500  Saudi ambassador to the UAE: Any contact with ...   \n",
      "5536  Anti-Trump forces seek last-ditch delegate revolt   \n",
      "5627  Clinton clearing primary field for potential 2...   \n",
      "5705  Political polarization is getting worse. Every...   \n",
      "5916  Is it possible that Saudi King be tried in US ...   \n",
      "5966  There’s a good reason protesters at the Univer...   \n",
      "6083  Biden Blames “Lazy American Women” For The Eco...   \n",
      "6148  Hillary’s “Big Tent” is Obama’s “Grand Bargain...   \n",
      "6227  ISIS uses an industrial dough kneader to kill ...   \n",
      "6233  North Korea Threatens ‘Sacred’ Nuclear War Aga...   \n",
      "\n",
      "                                                   text label  label_numeric  \n",
      "1492  To watch the video of photographer Tim Tai get...  REAL              0  \n",
      "1954  Washington (CNN) Loretta Lynch was sworn in as...  REAL              0  \n",
      "2336  “I’ve got my six-month, regular cancer checkup...  REAL              0  \n",
      "2856  Donald Trump, the actual Republican candidate ...  REAL              0  \n",
      "2952  News, information and analysis from the black ...  FAKE              1  \n",
      "3081  In obscure data tables buried deep in its 2016...  REAL              0  \n",
      "3292  Political scientists have known for years that...  REAL              0  \n",
      "3301  Who has Trump appointed to his cabinet so far?...  REAL              0  \n",
      "3324  Killing Obama administration rules, dismantlin...  REAL              0  \n",
      "4140  I’m not among those Republicans who have “evol...  REAL              0  \n",
      "4405  Print \\nWhen Judith Gait met “Father X,” it wa...  FAKE              1  \n",
      "4885  Tweet Widget by Black Power Front \\nWith stude...  FAKE              1  \n",
      "4971  A leading Republican critic of the Iranian nuc...  REAL              0  \n",
      "5083  2016 presidential campaign by BAR executive ed...  FAKE              1  \n",
      "5105  Hillary Clinton clinched the Democratic presid...  REAL              0  \n",
      "5127  Who has Trump appointed to his cabinet so far?...  REAL              0  \n",
      "5414  Do Democrats Want What Bernie Wants, Or Just W...  REAL              0  \n",
      "5417  News, information and analysis from the black ...  FAKE              1  \n",
      "5478  Email \\n\\nIt appears Bill and Hillary Clinton ...  FAKE              1  \n",
      "5500  Email \\n\\nAccording to a report by an Emirati ...  FAKE              1  \n",
      "5536  Washington (CNN) The faction of the GOP that i...  REAL              0  \n",
      "5627  Hillary Clinton appears to have scared away mu...  REAL              0  \n",
      "5705  You've probably seen this chart.\\n\\nIt uses an...  REAL              0  \n",
      "5916  Email \\n\\nAccording to the JASTA law which all...  FAKE              1  \n",
      "5966  Video of a confrontation between a news photog...  REAL              0  \n",
      "6083  Email \\n\\nDemocratic Vice President Joe Biden ...  FAKE              1  \n",
      "6148  2016 presidential campaign by BAR executive ed...  FAKE              1  \n",
      "6227  Email \\nISIS barbarians used an industrial dou...  FAKE              1  \n",
      "6233  Email \\nNorth Korea’s Foreign Ministry slammed...  FAKE              1  \n"
     ]
    }
   ],
   "source": [
    "# Identify duplicate rows\n",
    "duplicates = News.duplicated()\n",
    "\n",
    "# Display the duplicate rows\n",
    "duplicate_rows = News[duplicates]\n",
    "print(duplicate_rows)\n"
   ]
  },
  {
   "cell_type": "code",
   "execution_count": 17,
   "id": "b996cdd3",
   "metadata": {},
   "outputs": [
    {
     "name": "stdout",
     "output_type": "stream",
     "text": [
      "Total Duplicate Rows: 29\n"
     ]
    }
   ],
   "source": [
    "# Identify duplicate rows\n",
    "duplicates = News.duplicated()\n",
    "\n",
    "# Count the total number of duplicate rows\n",
    "total_duplicates = duplicates.sum()\n",
    "\n",
    "print(\"Total Duplicate Rows:\", total_duplicates)\n"
   ]
  },
  {
   "cell_type": "code",
   "execution_count": 18,
   "id": "a9619a94",
   "metadata": {},
   "outputs": [],
   "source": [
    "# Remove duplicate rows\n",
    "News = News.drop_duplicates()\n"
   ]
  },
  {
   "cell_type": "code",
   "execution_count": 19,
   "id": "d11f8a5d",
   "metadata": {},
   "outputs": [
    {
     "name": "stdout",
     "output_type": "stream",
     "text": [
      "Total Duplicate Rows: 0\n"
     ]
    }
   ],
   "source": [
    "# Identify duplicate rows\n",
    "duplicates = News.duplicated()\n",
    "\n",
    "# Count the total number of duplicate rows\n",
    "total_duplicates = duplicates.sum()\n",
    "\n",
    "print(\"Total Duplicate Rows:\", total_duplicates)"
   ]
  },
  {
   "cell_type": "code",
   "execution_count": 20,
   "id": "26f92656",
   "metadata": {},
   "outputs": [
    {
     "data": {
      "text/plain": [
       "(6306, 4)"
      ]
     },
     "execution_count": 20,
     "metadata": {},
     "output_type": "execute_result"
    }
   ],
   "source": [
    "News.shape"
   ]
  },
  {
   "cell_type": "markdown",
   "id": "8720771d",
   "metadata": {},
   "source": [
    "**LANGUAGE DETECTION :-**"
   ]
  },
  {
   "cell_type": "code",
   "execution_count": 21,
   "id": "24ae7020",
   "metadata": {},
   "outputs": [],
   "source": [
    "from langdetect import detect\n",
    "\n",
    "# Function to detect the language of a text snippet\n",
    "def detect_language(text):\n",
    "    try:\n",
    "        language = detect(text)\n",
    "    except:\n",
    "        language = 'unknown'  # In case the language detection fails\n",
    "    return language\n",
    "\n",
    "# Apply language detection to the 'text' column\n",
    "News['detected_language'] = News['text'].apply(detect_language)"
   ]
  },
  {
   "cell_type": "code",
   "execution_count": 22,
   "id": "ed2b4d98",
   "metadata": {},
   "outputs": [
    {
     "data": {
      "text/plain": [
       "array(['en', 'unknown', 'de', 'hr', 'fr'], dtype=object)"
      ]
     },
     "execution_count": 22,
     "metadata": {},
     "output_type": "execute_result"
    }
   ],
   "source": [
    "News['detected_language'].unique()"
   ]
  },
  {
   "cell_type": "code",
   "execution_count": 23,
   "id": "15075ed8",
   "metadata": {},
   "outputs": [
    {
     "data": {
      "text/plain": [
       "(6306, 5)"
      ]
     },
     "execution_count": 23,
     "metadata": {},
     "output_type": "execute_result"
    }
   ],
   "source": [
    "News.shape"
   ]
  },
  {
   "cell_type": "code",
   "execution_count": 24,
   "id": "838a8e71",
   "metadata": {},
   "outputs": [],
   "source": [
    "# Filter out rows with 'unknown' language\n",
    "News = News[News['detected_language'] != 'unknown']\n",
    "\n",
    "# Reset the index after removing rows\n",
    "News.reset_index(drop=True, inplace=True)\n"
   ]
  },
  {
   "cell_type": "code",
   "execution_count": 25,
   "id": "05cfeaae",
   "metadata": {},
   "outputs": [
    {
     "data": {
      "text/plain": [
       "array(['en', 'de', 'hr', 'fr'], dtype=object)"
      ]
     },
     "execution_count": 25,
     "metadata": {},
     "output_type": "execute_result"
    }
   ],
   "source": [
    "News['detected_language'].unique()"
   ]
  },
  {
   "cell_type": "code",
   "execution_count": 26,
   "id": "44beaf21",
   "metadata": {},
   "outputs": [
    {
     "data": {
      "text/plain": [
       "(6269, 5)"
      ]
     },
     "execution_count": 26,
     "metadata": {},
     "output_type": "execute_result"
    }
   ],
   "source": [
    "News.shape"
   ]
  },
  {
   "cell_type": "code",
   "execution_count": 27,
   "id": "fc445ec1",
   "metadata": {},
   "outputs": [
    {
     "name": "stdout",
     "output_type": "stream",
     "text": [
      "Language-wise Article Counts:\n",
      "en    6265\n",
      "de       2\n",
      "hr       1\n",
      "fr       1\n",
      "Name: detected_language, dtype: int64\n"
     ]
    }
   ],
   "source": [
    "language_article_counts = News['detected_language'].value_counts()\n",
    "\n",
    "print(\"Language-wise Article Counts:\")\n",
    "print(language_article_counts)\n"
   ]
  },
  {
   "cell_type": "code",
   "execution_count": 28,
   "id": "61a3c755",
   "metadata": {},
   "outputs": [],
   "source": [
    "#SINCE de(German) and fr(French) are not used that much so we can remove it, it will not affect our model's performance \n",
    "# Filter out articles in languages other than English\n",
    "News = News[News['detected_language'] == 'en']\n",
    "\n",
    "# Reset the index after removing rows\n",
    "News.reset_index(drop=True, inplace=True)\n"
   ]
  },
  {
   "cell_type": "code",
   "execution_count": 29,
   "id": "a2affea4",
   "metadata": {},
   "outputs": [
    {
     "data": {
      "text/plain": [
       "array(['en'], dtype=object)"
      ]
     },
     "execution_count": 29,
     "metadata": {},
     "output_type": "execute_result"
    }
   ],
   "source": [
    "News['detected_language'].unique()"
   ]
  },
  {
   "cell_type": "markdown",
   "id": "29be9dec",
   "metadata": {},
   "source": [
    "**Visualization of top 10 article titles :-**"
   ]
  },
  {
   "cell_type": "code",
   "execution_count": 30,
   "id": "a5f05e08",
   "metadata": {},
   "outputs": [
    {
     "name": "stderr",
     "output_type": "stream",
     "text": [
      "C:\\Users\\Tanay's PC\\AppData\\Local\\Temp\\ipykernel_1688\\2313691812.py:11: UserWarning: Tight layout not applied. The bottom and top margins cannot be made large enough to accommodate all axes decorations.\n",
      "  plt.tight_layout()\n"
     ]
    },
    {
     "data": {
      "image/png": "[encoded data removed]",
      "text/plain": [
       "<Figure size 1000x600 with 1 Axes>"
      ]
     },
     "metadata": {},
     "output_type": "display_data"
    }
   ],
   "source": [
    "# Count the occurrences of each title\n",
    "title_counts = News['title'].value_counts()\n",
    "\n",
    "# Plot the bar plot\n",
    "plt.figure(figsize=(10, 6))\n",
    "title_counts[:10].plot(kind='bar')\n",
    "plt.xlabel('Title')\n",
    "plt.ylabel('Number of Articles')\n",
    "plt.title('Top 10 Article Titles')\n",
    "plt.xticks(rotation=45, ha='right')\n",
    "plt.tight_layout()\n",
    "plt.show()"
   ]
  },
  {
   "cell_type": "markdown",
   "id": "34b47657",
   "metadata": {},
   "source": [
    "# Data Preprocessing "
   ]
  },
  {
   "cell_type": "code",
   "execution_count": 31,
   "id": "9461c735",
   "metadata": {},
   "outputs": [],
   "source": [
    "import nltk\n",
    "from nltk.corpus import stopwords\n",
    "from nltk.tokenize import word_tokenize\n",
    "from nltk.stem import PorterStemmer\n",
    "import re"
   ]
  },
  {
   "cell_type": "markdown",
   "id": "0acc92f1",
   "metadata": {},
   "source": [
    "**Preprocessing of Text column :-**"
   ]
  },
  {
   "cell_type": "code",
   "execution_count": 32,
   "id": "e4401964",
   "metadata": {},
   "outputs": [],
   "source": [
    "# Function to preprocess text\n",
    "def preprocess_text(text):\n",
    "    # Lowercase the text\n",
    "    text = text.lower()\n",
    "    \n",
    "    # Remove HTML tags\n",
    "    text = re.sub('<.*?>', '', text)\n",
    "\n",
    "    # Remove <br> tags\n",
    "    text = text.replace('<br>', '')\n",
    "    \n",
    "    # Remove URLs\n",
    "    text = re.sub(r'http\\S+', '', text)\n",
    "\n",
    "    # Tokenization\n",
    "    tokens = word_tokenize(text)\n",
    "\n",
    "    # Remove stopwords\n",
    "    stop_words = set(stopwords.words('english'))\n",
    "    tokens = [token for token in tokens if token not in stop_words]\n",
    "\n",
    "    # Remove special characters and punctuation\n",
    "    tokens = [token for token in tokens if token.isalnum()]\n",
    "\n",
    "    # Stemming\n",
    "    stemmer = PorterStemmer()\n",
    "    tokens = [stemmer.stem(token) for token in tokens]\n",
    "\n",
    "    # Reconstruct the preprocessed text\n",
    "    preprocessed_text = ' '.join(tokens)\n",
    "\n",
    "    return preprocessed_text\n",
    "\n",
    "# Preprocess the 'text' column in your dataset\n",
    "News['preprocessed_text'] = News['text'].apply(preprocess_text)"
   ]
  },
  {
   "cell_type": "markdown",
   "id": "9c363ba9",
   "metadata": {},
   "source": [
    "**Preprocessing of title column :-**"
   ]
  },
  {
   "cell_type": "code",
   "execution_count": 33,
   "id": "4aea452f",
   "metadata": {},
   "outputs": [],
   "source": [
    "# Function to preprocess title\n",
    "def preprocess_title(title):\n",
    "    # Lowercase the title\n",
    "    title = title.lower()\n",
    "\n",
    "    # Remove HTML tags\n",
    "    title = re.sub('<.*?>', '', title)\n",
    "\n",
    "    # Remove <br> tags\n",
    "    title = title.replace('<br>', '')\n",
    "\n",
    "    # Remove URLs\n",
    "    title = re.sub(r'http\\S+', '', title)\n",
    "\n",
    "    # Tokenization\n",
    "    tokens = word_tokenize(title)\n",
    "\n",
    "    # Remove stopwords\n",
    "    stop_words = set(stopwords.words('english'))\n",
    "    tokens = [token for token in tokens if token not in stop_words]\n",
    "\n",
    "    # Remove special characters and punctuation\n",
    "    tokens = [token for token in tokens if token.isalnum()]\n",
    "\n",
    "    # Stemming\n",
    "    stemmer = PorterStemmer()\n",
    "    tokens = [stemmer.stem(token) for token in tokens]\n",
    "\n",
    "    # Reconstruct the preprocessed title\n",
    "    preprocessed_title = ' '.join(tokens)\n",
    "\n",
    "    return preprocessed_title\n",
    "\n",
    "# Preprocess the 'title' column in your dataset\n",
    "News['preprocessed_title'] = News['title'].apply(preprocess_title)\n"
   ]
  },
  {
   "cell_type": "code",
   "execution_count": 34,
   "id": "4b4594b7",
   "metadata": {},
   "outputs": [
    {
     "data": {
      "text/html": [
       "<div>\n",
       "<style scoped>\n",
       "    .dataframe tbody tr th:only-of-type {\n",
       "        vertical-align: middle;\n",
       "    }\n",
       "\n",
       "    .dataframe tbody tr th {\n",
       "        vertical-align: top;\n",
       "    }\n",
       "\n",
       "    .dataframe thead th {\n",
       "        text-align: right;\n",
       "    }\n",
       "</style>\n",
       "<table border=\"1\" class=\"dataframe\">\n",
       "  <thead>\n",
       "    <tr style=\"text-align: right;\">\n",
       "      <th></th>\n",
       "      <th>title</th>\n",
       "      <th>text</th>\n",
       "      <th>label</th>\n",
       "      <th>label_numeric</th>\n",
       "      <th>detected_language</th>\n",
       "      <th>preprocessed_text</th>\n",
       "      <th>preprocessed_title</th>\n",
       "    </tr>\n",
       "  </thead>\n",
       "  <tbody>\n",
       "    <tr>\n",
       "      <th>0</th>\n",
       "      <td>You Can Smell Hillary’s Fear</td>\n",
       "      <td>Daniel Greenfield, a Shillman Journalism Fello...</td>\n",
       "      <td>FAKE</td>\n",
       "      <td>1</td>\n",
       "      <td>en</td>\n",
       "      <td>daniel greenfield shillman journal fellow free...</td>\n",
       "      <td>smell hillari fear</td>\n",
       "    </tr>\n",
       "    <tr>\n",
       "      <th>1</th>\n",
       "      <td>Watch The Exact Moment Paul Ryan Committed Pol...</td>\n",
       "      <td>Google Pinterest Digg Linkedin Reddit Stumbleu...</td>\n",
       "      <td>FAKE</td>\n",
       "      <td>1</td>\n",
       "      <td>en</td>\n",
       "      <td>googl pinterest digg linkedin reddit stumbleup...</td>\n",
       "      <td>watch exact moment paul ryan commit polit suic...</td>\n",
       "    </tr>\n",
       "    <tr>\n",
       "      <th>2</th>\n",
       "      <td>Kerry to go to Paris in gesture of sympathy</td>\n",
       "      <td>U.S. Secretary of State John F. Kerry said Mon...</td>\n",
       "      <td>REAL</td>\n",
       "      <td>0</td>\n",
       "      <td>en</td>\n",
       "      <td>secretari state john kerri said monday stop pa...</td>\n",
       "      <td>kerri go pari gestur sympathi</td>\n",
       "    </tr>\n",
       "    <tr>\n",
       "      <th>3</th>\n",
       "      <td>Bernie supporters on Twitter erupt in anger ag...</td>\n",
       "      <td>— Kaydee King (@KaydeeKing) November 9, 2016 T...</td>\n",
       "      <td>FAKE</td>\n",
       "      <td>1</td>\n",
       "      <td>en</td>\n",
       "      <td>kayde king kaydeek novemb 9 2016 lesson tonigh...</td>\n",
       "      <td>berni support twitter erupt anger dnc tri warn</td>\n",
       "    </tr>\n",
       "    <tr>\n",
       "      <th>4</th>\n",
       "      <td>The Battle of New York: Why This Primary Matters</td>\n",
       "      <td>It's primary day in New York and front-runners...</td>\n",
       "      <td>REAL</td>\n",
       "      <td>0</td>\n",
       "      <td>en</td>\n",
       "      <td>primari day new york hillari clinton donald tr...</td>\n",
       "      <td>battl new york primari matter</td>\n",
       "    </tr>\n",
       "  </tbody>\n",
       "</table>\n",
       "</div>"
      ],
      "text/plain": [
       "                                               title  \\\n",
       "0                       You Can Smell Hillary’s Fear   \n",
       "1  Watch The Exact Moment Paul Ryan Committed Pol...   \n",
       "2        Kerry to go to Paris in gesture of sympathy   \n",
       "3  Bernie supporters on Twitter erupt in anger ag...   \n",
       "4   The Battle of New York: Why This Primary Matters   \n",
       "\n",
       "                                                text label  label_numeric  \\\n",
       "0  Daniel Greenfield, a Shillman Journalism Fello...  FAKE              1   \n",
       "1  Google Pinterest Digg Linkedin Reddit Stumbleu...  FAKE              1   \n",
       "2  U.S. Secretary of State John F. Kerry said Mon...  REAL              0   \n",
       "3  — Kaydee King (@KaydeeKing) November 9, 2016 T...  FAKE              1   \n",
       "4  It's primary day in New York and front-runners...  REAL              0   \n",
       "\n",
       "  detected_language                                  preprocessed_text  \\\n",
       "0                en  daniel greenfield shillman journal fellow free...   \n",
       "1                en  googl pinterest digg linkedin reddit stumbleup...   \n",
       "2                en  secretari state john kerri said monday stop pa...   \n",
       "3                en  kayde king kaydeek novemb 9 2016 lesson tonigh...   \n",
       "4                en  primari day new york hillari clinton donald tr...   \n",
       "\n",
       "                                  preprocessed_title  \n",
       "0                                 smell hillari fear  \n",
       "1  watch exact moment paul ryan commit polit suic...  \n",
       "2                      kerri go pari gestur sympathi  \n",
       "3     berni support twitter erupt anger dnc tri warn  \n",
       "4                      battl new york primari matter  "
      ]
     },
     "execution_count": 34,
     "metadata": {},
     "output_type": "execute_result"
    }
   ],
   "source": [
    "News.head()"
   ]
  },
  {
   "cell_type": "markdown",
   "id": "b8859742",
   "metadata": {},
   "source": [
    "**SINCE, WE DO NOT NEED THE TITLE AND TEXT COLUMN AS WE HAVE PREPROCESSED COLUMNS: -**"
   ]
  },
  {
   "cell_type": "code",
   "execution_count": 35,
   "id": "d6c020d1",
   "metadata": {},
   "outputs": [],
   "source": [
    "# Drop the 'title' and 'text' columns from the dataset\n",
    "News = News.drop(columns=['title', 'text'])\n"
   ]
  },
  {
   "cell_type": "code",
   "execution_count": 36,
   "id": "bedf91e3",
   "metadata": {},
   "outputs": [
    {
     "data": {
      "text/html": [
       "<div>\n",
       "<style scoped>\n",
       "    .dataframe tbody tr th:only-of-type {\n",
       "        vertical-align: middle;\n",
       "    }\n",
       "\n",
       "    .dataframe tbody tr th {\n",
       "        vertical-align: top;\n",
       "    }\n",
       "\n",
       "    .dataframe thead th {\n",
       "        text-align: right;\n",
       "    }\n",
       "</style>\n",
       "<table border=\"1\" class=\"dataframe\">\n",
       "  <thead>\n",
       "    <tr style=\"text-align: right;\">\n",
       "      <th></th>\n",
       "      <th>label</th>\n",
       "      <th>label_numeric</th>\n",
       "      <th>detected_language</th>\n",
       "      <th>preprocessed_text</th>\n",
       "      <th>preprocessed_title</th>\n",
       "    </tr>\n",
       "  </thead>\n",
       "  <tbody>\n",
       "    <tr>\n",
       "      <th>0</th>\n",
       "      <td>FAKE</td>\n",
       "      <td>1</td>\n",
       "      <td>en</td>\n",
       "      <td>daniel greenfield shillman journal fellow free...</td>\n",
       "      <td>smell hillari fear</td>\n",
       "    </tr>\n",
       "    <tr>\n",
       "      <th>1</th>\n",
       "      <td>FAKE</td>\n",
       "      <td>1</td>\n",
       "      <td>en</td>\n",
       "      <td>googl pinterest digg linkedin reddit stumbleup...</td>\n",
       "      <td>watch exact moment paul ryan commit polit suic...</td>\n",
       "    </tr>\n",
       "    <tr>\n",
       "      <th>2</th>\n",
       "      <td>REAL</td>\n",
       "      <td>0</td>\n",
       "      <td>en</td>\n",
       "      <td>secretari state john kerri said monday stop pa...</td>\n",
       "      <td>kerri go pari gestur sympathi</td>\n",
       "    </tr>\n",
       "    <tr>\n",
       "      <th>3</th>\n",
       "      <td>FAKE</td>\n",
       "      <td>1</td>\n",
       "      <td>en</td>\n",
       "      <td>kayde king kaydeek novemb 9 2016 lesson tonigh...</td>\n",
       "      <td>berni support twitter erupt anger dnc tri warn</td>\n",
       "    </tr>\n",
       "    <tr>\n",
       "      <th>4</th>\n",
       "      <td>REAL</td>\n",
       "      <td>0</td>\n",
       "      <td>en</td>\n",
       "      <td>primari day new york hillari clinton donald tr...</td>\n",
       "      <td>battl new york primari matter</td>\n",
       "    </tr>\n",
       "  </tbody>\n",
       "</table>\n",
       "</div>"
      ],
      "text/plain": [
       "  label  label_numeric detected_language  \\\n",
       "0  FAKE              1                en   \n",
       "1  FAKE              1                en   \n",
       "2  REAL              0                en   \n",
       "3  FAKE              1                en   \n",
       "4  REAL              0                en   \n",
       "\n",
       "                                   preprocessed_text  \\\n",
       "0  daniel greenfield shillman journal fellow free...   \n",
       "1  googl pinterest digg linkedin reddit stumbleup...   \n",
       "2  secretari state john kerri said monday stop pa...   \n",
       "3  kayde king kaydeek novemb 9 2016 lesson tonigh...   \n",
       "4  primari day new york hillari clinton donald tr...   \n",
       "\n",
       "                                  preprocessed_title  \n",
       "0                                 smell hillari fear  \n",
       "1  watch exact moment paul ryan commit polit suic...  \n",
       "2                      kerri go pari gestur sympathi  \n",
       "3     berni support twitter erupt anger dnc tri warn  \n",
       "4                      battl new york primari matter  "
      ]
     },
     "execution_count": 36,
     "metadata": {},
     "output_type": "execute_result"
    }
   ],
   "source": [
    "News.head()"
   ]
  },
  {
   "cell_type": "markdown",
   "id": "d265b2da",
   "metadata": {},
   "source": [
    "# Visualization after Data Pre Processing :-"
   ]
  },
  {
   "cell_type": "code",
   "execution_count": 37,
   "id": "f0592fb8",
   "metadata": {},
   "outputs": [
    {
     "data": {
      "image/png": "[encoded data removed]",
      "text/plain": [
       "<Figure size 600x600 with 1 Axes>"
      ]
     },
     "metadata": {},
     "output_type": "display_data"
    }
   ],
   "source": [
    "# Count the occurrences of each label\n",
    "label_counts = News['label'].value_counts()\n",
    "\n",
    "# Plot the pie chart\n",
    "plt.figure(figsize=(6, 6))\n",
    "plt.pie(label_counts, labels=label_counts.index, autopct='%1.1f%%', colors=['blue', 'green'], startangle=140)\n",
    "plt.title('Distribution of Fake and Real News')\n",
    "plt.show()"
   ]
  },
  {
   "cell_type": "markdown",
   "id": "5ddc3371",
   "metadata": {},
   "source": [
    "# Marking Target and Predictor Variable :-"
   ]
  },
  {
   "cell_type": "code",
   "execution_count": 38,
   "id": "d96e91ef",
   "metadata": {},
   "outputs": [],
   "source": [
    "X = News[['preprocessed_text', 'preprocessed_title']]         #predictor variable\n",
    "y = News['label_numeric']                                   #target variable"
   ]
  },
  {
   "cell_type": "code",
   "execution_count": 39,
   "id": "d3197e90",
   "metadata": {},
   "outputs": [
    {
     "data": {
      "text/html": [
       "<div>\n",
       "<style scoped>\n",
       "    .dataframe tbody tr th:only-of-type {\n",
       "        vertical-align: middle;\n",
       "    }\n",
       "\n",
       "    .dataframe tbody tr th {\n",
       "        vertical-align: top;\n",
       "    }\n",
       "\n",
       "    .dataframe thead th {\n",
       "        text-align: right;\n",
       "    }\n",
       "</style>\n",
       "<table border=\"1\" class=\"dataframe\">\n",
       "  <thead>\n",
       "    <tr style=\"text-align: right;\">\n",
       "      <th></th>\n",
       "      <th>preprocessed_text</th>\n",
       "      <th>preprocessed_title</th>\n",
       "    </tr>\n",
       "  </thead>\n",
       "  <tbody>\n",
       "    <tr>\n",
       "      <th>0</th>\n",
       "      <td>daniel greenfield shillman journal fellow free...</td>\n",
       "      <td>smell hillari fear</td>\n",
       "    </tr>\n",
       "    <tr>\n",
       "      <th>1</th>\n",
       "      <td>googl pinterest digg linkedin reddit stumbleup...</td>\n",
       "      <td>watch exact moment paul ryan commit polit suic...</td>\n",
       "    </tr>\n",
       "    <tr>\n",
       "      <th>2</th>\n",
       "      <td>secretari state john kerri said monday stop pa...</td>\n",
       "      <td>kerri go pari gestur sympathi</td>\n",
       "    </tr>\n",
       "    <tr>\n",
       "      <th>3</th>\n",
       "      <td>kayde king kaydeek novemb 9 2016 lesson tonigh...</td>\n",
       "      <td>berni support twitter erupt anger dnc tri warn</td>\n",
       "    </tr>\n",
       "    <tr>\n",
       "      <th>4</th>\n",
       "      <td>primari day new york hillari clinton donald tr...</td>\n",
       "      <td>battl new york primari matter</td>\n",
       "    </tr>\n",
       "  </tbody>\n",
       "</table>\n",
       "</div>"
      ],
      "text/plain": [
       "                                   preprocessed_text  \\\n",
       "0  daniel greenfield shillman journal fellow free...   \n",
       "1  googl pinterest digg linkedin reddit stumbleup...   \n",
       "2  secretari state john kerri said monday stop pa...   \n",
       "3  kayde king kaydeek novemb 9 2016 lesson tonigh...   \n",
       "4  primari day new york hillari clinton donald tr...   \n",
       "\n",
       "                                  preprocessed_title  \n",
       "0                                 smell hillari fear  \n",
       "1  watch exact moment paul ryan commit polit suic...  \n",
       "2                      kerri go pari gestur sympathi  \n",
       "3     berni support twitter erupt anger dnc tri warn  \n",
       "4                      battl new york primari matter  "
      ]
     },
     "execution_count": 39,
     "metadata": {},
     "output_type": "execute_result"
    }
   ],
   "source": [
    "X.head()"
   ]
  },
  {
   "cell_type": "code",
   "execution_count": 40,
   "id": "0ec3e777",
   "metadata": {},
   "outputs": [
    {
     "data": {
      "text/plain": [
       "0    1\n",
       "1    1\n",
       "2    0\n",
       "3    1\n",
       "4    0\n",
       "Name: label_numeric, dtype: int64"
      ]
     },
     "execution_count": 40,
     "metadata": {},
     "output_type": "execute_result"
    }
   ],
   "source": [
    "y.head()"
   ]
  },
  {
   "cell_type": "markdown",
   "id": "5238ffe0",
   "metadata": {},
   "source": [
    "# Splitting the dataset for training and testing:-"
   ]
  },
  {
   "cell_type": "code",
   "execution_count": 41,
   "id": "cb57f689",
   "metadata": {},
   "outputs": [],
   "source": [
    "from sklearn.model_selection import train_test_split\n",
    "\n",
    "# Split the data into 80% training and 20% testing\n",
    "X_train, X_test, y_train, y_test = train_test_split(X, y, test_size=0.2, random_state=42) "
   ]
  },
  {
   "cell_type": "code",
   "execution_count": 42,
   "id": "625bcb5f",
   "metadata": {},
   "outputs": [
    {
     "data": {
      "text/plain": [
       "(5012, 2)"
      ]
     },
     "execution_count": 42,
     "metadata": {},
     "output_type": "execute_result"
    }
   ],
   "source": [
    "X_train.shape"
   ]
  },
  {
   "cell_type": "code",
   "execution_count": 43,
   "id": "829b6972",
   "metadata": {},
   "outputs": [
    {
     "data": {
      "text/plain": [
       "(1253, 2)"
      ]
     },
     "execution_count": 43,
     "metadata": {},
     "output_type": "execute_result"
    }
   ],
   "source": [
    "X_test.shape"
   ]
  },
  {
   "cell_type": "markdown",
   "id": "4431639b",
   "metadata": {},
   "source": [
    "# Embedding Vectorization :-"
   ]
  },
  {
   "cell_type": "code",
   "execution_count": 44,
   "id": "db6e5332",
   "metadata": {},
   "outputs": [],
   "source": [
    "from tensorflow.keras.preprocessing.text import Tokenizer\n",
    "from tensorflow.keras.preprocessing.sequence import pad_sequences\n",
    "from tensorflow.keras.models import Sequential\n",
    "import tensorflow as tf"
   ]
  },
  {
   "cell_type": "code",
   "execution_count": 45,
   "id": "5e366995",
   "metadata": {},
   "outputs": [],
   "source": [
    "# Create and fit a tokenizer on the combined text and title data\n",
    "tokenizer = Tokenizer()\n",
    "tokenizer.fit_on_texts(X_train['preprocessed_text'] + X_train['preprocessed_title'])\n",
    "\n",
    "# Tokenize text and title data\n",
    "X_train_sequences_text = tokenizer.texts_to_sequences(X_train['preprocessed_text'])\n",
    "X_train_sequences_title = tokenizer.texts_to_sequences(X_train['preprocessed_title'])\n",
    "X_test_sequences_text = tokenizer.texts_to_sequences(X_test['preprocessed_text'])\n",
    "X_test_sequences_title = tokenizer.texts_to_sequences(X_test['preprocessed_title'])\n",
    "\n",
    "# Pad sequences to a fixed length\n",
    "max_sequence_length = 100  # Set your desired sequence length\n",
    "X_train_padded_text = pad_sequences(X_train_sequences_text, maxlen=max_sequence_length)\n",
    "X_train_padded_title = pad_sequences(X_train_sequences_title, maxlen=max_sequence_length)\n",
    "X_test_padded_text = pad_sequences(X_test_sequences_text, maxlen=max_sequence_length)\n",
    "X_test_padded_title = pad_sequences(X_test_sequences_title, maxlen=max_sequence_length)"
   ]
  },
  {
   "cell_type": "code",
   "execution_count": 46,
   "id": "d8209e3b",
   "metadata": {},
   "outputs": [],
   "source": [
    "# Set random seeds for reproducibility\n",
    "seed_value = 42\n",
    "tf.random.set_seed(seed_value)\n",
    "np.random.seed(seed_value)"
   ]
  },
  {
   "cell_type": "markdown",
   "id": "c378038a",
   "metadata": {},
   "source": [
    "# RNN Model :-"
   ]
  },
  {
   "cell_type": "code",
   "execution_count": 47,
   "id": "578ccf79",
   "metadata": {},
   "outputs": [
    {
     "name": "stdout",
     "output_type": "stream",
     "text": [
      "Model: \"sequential\"\n",
      "_________________________________________________________________\n",
      " Layer (type)                Output Shape              Param #   \n",
      "=================================================================\n",
      " embedding (Embedding)       (None, 100, 100)          4372200   \n",
      "                                                                 \n",
      " simple_rnn (SimpleRNN)      (None, 100)               20100     \n",
      "                                                                 \n",
      " dense (Dense)               (None, 64)                6464      \n",
      "                                                                 \n",
      " dropout (Dropout)           (None, 64)                0         \n",
      "                                                                 \n",
      " dense_1 (Dense)             (None, 1)                 65        \n",
      "                                                                 \n",
      "=================================================================\n",
      "Total params: 4398829 (16.78 MB)\n",
      "Trainable params: 4398829 (16.78 MB)\n",
      "Non-trainable params: 0 (0.00 Byte)\n",
      "_________________________________________________________________\n",
      "Epoch 1/5\n"
     ]
    },
    {
     "name": "stderr",
     "output_type": "stream",
     "text": [
      "C:\\Users\\Tanay's PC\\AppData\\Local\\Programs\\Python\\Python310\\lib\\site-packages\\keras\\src\\engine\\data_adapter.py:1798: FutureWarning: The behavior of `series[i:j]` with an integer-dtype index is deprecated. In a future version, this will be treated as *label-based* indexing, consistent with e.g. `series[i]` lookups. To retain the old behavior, use `series.iloc[i:j]`. To get the future behavior, use `series.loc[i:j]`.\n",
      "  return t[start:end]\n"
     ]
    },
    {
     "name": "stdout",
     "output_type": "stream",
     "text": [
      "71/71 [==============================] - 7s 78ms/step - loss: 0.7097 - accuracy: 0.5262 - val_loss: 0.6818 - val_accuracy: 0.5219\n",
      "Epoch 2/5\n",
      "71/71 [==============================] - 5s 73ms/step - loss: 0.6919 - accuracy: 0.5559 - val_loss: 0.6665 - val_accuracy: 0.5777\n",
      "Epoch 3/5\n",
      "71/71 [==============================] - 5s 69ms/step - loss: 0.6675 - accuracy: 0.5860 - val_loss: 0.6448 - val_accuracy: 0.6175\n",
      "Epoch 4/5\n",
      "71/71 [==============================] - 5s 73ms/step - loss: 0.6257 - accuracy: 0.6306 - val_loss: 0.6302 - val_accuracy: 0.6474\n",
      "Epoch 5/5\n",
      "71/71 [==============================] - 5s 71ms/step - loss: 0.5767 - accuracy: 0.6836 - val_loss: 0.5599 - val_accuracy: 0.6932\n",
      "40/40 [==============================] - 0s 5ms/step - loss: 0.5477 - accuracy: 0.6935\n",
      "Test Accuracy: 0.6935355067253113\n"
     ]
    }
   ],
   "source": [
    "from tensorflow.keras.layers import Embedding, SimpleRNN, Dense, Dropout, concatenate\n",
    "from tensorflow.keras.models import Model\n",
    "\n",
    "# Build a simple RNN model\n",
    "model = Sequential()\n",
    "\n",
    "# Add an embedding layer\n",
    "embedding_layer = Embedding(input_dim=len(tokenizer.word_index) + 1, output_dim=100, input_length=max_sequence_length)\n",
    "model.add(embedding_layer)\n",
    "\n",
    "# Add an RNN layer\n",
    "model.add(SimpleRNN(100, dropout=0.2, recurrent_dropout=0.2))\n",
    "\n",
    "# Add a dense layer\n",
    "model.add(Dense(64, activation='relu'))\n",
    "\n",
    "# Add a dropout layer\n",
    "model.add(Dropout(0.5))\n",
    "\n",
    "# Add the output layer\n",
    "model.add(Dense(1, activation='sigmoid'))\n",
    "\n",
    "# Compile the model\n",
    "model.compile(loss='binary_crossentropy', optimizer='adam', metrics=['accuracy'])\n",
    "\n",
    "# Print the model summary\n",
    "model.summary()\n",
    "\n",
    "# Train the model\n",
    "model.fit(X_train_padded_text, y_train, batch_size=64, epochs=5, validation_split=0.1)\n",
    "\n",
    "# Evaluate the model\n",
    "loss, accuracy = model.evaluate(X_test_padded_text, y_test)\n",
    "print(\"Test Accuracy:\", accuracy)\n"
   ]
  },
  {
   "cell_type": "markdown",
   "id": "802d06f2",
   "metadata": {},
   "source": [
    "# LSTM model :- "
   ]
  },
  {
   "cell_type": "code",
   "execution_count": 48,
   "id": "191a1f30",
   "metadata": {},
   "outputs": [
    {
     "name": "stdout",
     "output_type": "stream",
     "text": [
      "Model: \"sequential_1\"\n",
      "_________________________________________________________________\n",
      " Layer (type)                Output Shape              Param #   \n",
      "=================================================================\n",
      " embedding_1 (Embedding)     (None, 100, 100)          4372200   \n",
      "                                                                 \n",
      " lstm (LSTM)                 (None, 100)               80400     \n",
      "                                                                 \n",
      " dense_2 (Dense)             (None, 64)                6464      \n",
      "                                                                 \n",
      " dropout_1 (Dropout)         (None, 64)                0         \n",
      "                                                                 \n",
      " dense_3 (Dense)             (None, 1)                 65        \n",
      "                                                                 \n",
      "=================================================================\n",
      "Total params: 4459129 (17.01 MB)\n",
      "Trainable params: 4459129 (17.01 MB)\n",
      "Non-trainable params: 0 (0.00 Byte)\n",
      "_________________________________________________________________\n",
      "Epoch 1/5\n",
      "71/71 [==============================] - 13s 159ms/step - loss: 0.5534 - accuracy: 0.7093 - val_loss: 0.3408 - val_accuracy: 0.8745\n",
      "Epoch 2/5\n",
      "71/71 [==============================] - 11s 155ms/step - loss: 0.1845 - accuracy: 0.9346 - val_loss: 0.3742 - val_accuracy: 0.8745\n",
      "Epoch 3/5\n",
      "71/71 [==============================] - 11s 157ms/step - loss: 0.0495 - accuracy: 0.9854 - val_loss: 0.3928 - val_accuracy: 0.8745\n",
      "Epoch 4/5\n",
      "71/71 [==============================] - 11s 161ms/step - loss: 0.0178 - accuracy: 0.9956 - val_loss: 0.4868 - val_accuracy: 0.8765\n",
      "Epoch 5/5\n",
      "71/71 [==============================] - 12s 163ms/step - loss: 0.0170 - accuracy: 0.9953 - val_loss: 0.7824 - val_accuracy: 0.8566\n",
      "40/40 [==============================] - 1s 15ms/step - loss: 0.7556 - accuracy: 0.8659\n",
      "Test Accuracy: 0.8659217953681946\n"
     ]
    }
   ],
   "source": [
    "from tensorflow.keras.layers import Embedding, LSTM, Dense, Dropout, concatenate\n",
    "from tensorflow.keras.models import Sequential\n",
    "\n",
    "# Build an LSTM model\n",
    "model = Sequential()\n",
    "\n",
    "# Add an embedding layer\n",
    "embedding_layer = Embedding(input_dim=len(tokenizer.word_index) + 1, output_dim=100, input_length=max_sequence_length)\n",
    "model.add(embedding_layer)\n",
    "\n",
    "# Add an LSTM layer\n",
    "model.add(LSTM(100, dropout=0.2, recurrent_dropout=0.2))\n",
    "\n",
    "# Add a dense layer\n",
    "model.add(Dense(64, activation='relu'))\n",
    "\n",
    "# Add a dropout layer\n",
    "model.add(Dropout(0.5))\n",
    "\n",
    "# Add the output layer\n",
    "model.add(Dense(1, activation='sigmoid'))\n",
    "\n",
    "# Compile the model\n",
    "model.compile(loss='binary_crossentropy', optimizer='adam', metrics=['accuracy'])\n",
    "\n",
    "# Print the model summary\n",
    "model.summary()\n",
    "\n",
    "# Train the model\n",
    "model.fit(X_train_padded_text, y_train, batch_size=64, epochs=5, validation_split=0.1)\n",
    "\n",
    "# Evaluate the model\n",
    "loss, accuracy = model.evaluate(X_test_padded_text, y_test)\n",
    "print(\"Test Accuracy:\", accuracy)\n"
   ]
  },
  {
   "cell_type": "code",
   "execution_count": 49,
   "id": "36d0d6dd",
   "metadata": {},
   "outputs": [],
   "source": [
    "from joblib import dump, load #use it to save Python objects (such as trained machine learning models) to files for later use. "
   ]
  },
  {
   "cell_type": "code",
   "execution_count": 50,
   "id": "8e8d6d98",
   "metadata": {},
   "outputs": [
    {
     "data": {
      "text/plain": [
       "['./../savedmodels/model.joblib']"
      ]
     },
     "execution_count": 50,
     "metadata": {},
     "output_type": "execute_result"
    }
   ],
   "source": [
    "dump(model, './../savedmodels/model.joblib')"
   ]
  },
  {
   "cell_type": "code",
   "execution_count": 51,
   "id": "5a000858",
   "metadata": {},
   "outputs": [],
   "source": [
    "# Save the tokenizer\n",
    "dump(tokenizer, './../savedmodels/tokenizer.joblib')\n",
    "\n",
    "# Load the tokenizer\n",
    "tokenizer = load('./../savedmodels/tokenizer.joblib')"
   ]
  },
  {
   "cell_type": "code",
   "execution_count": 52,
   "id": "a0928421",
   "metadata": {},
   "outputs": [
    {
     "name": "stdout",
     "output_type": "stream",
     "text": [
      "daniel greenfield shillman journal fellow freedom center new york writer focus radic islam final stretch elect hillari rodham clinton gone war fbi word unpreced thrown around often elect ought retir still unpreced nomine major polit parti go war fbi exactli hillari peopl done coma patient wake watch hour cnn hospit bed would assum fbi director jame comey hillari oppon elect fbi attack everyon obama cnn hillari peopl circul letter attack comey current media hit piec lambast target trump surpris clinton alli start run attack ad fbi fbi leadership warn entir establish form lynch mob continu go hillari fbi credibl attack media democrat preemptiv head result investig clinton foundat hillari clinton covert struggl fbi agent obama doj peopl gone explos public new york time compar comey edgar hoover bizarr headlin jame comey role recal hoover fbi fairli practic admit front spout nonsens boston globe publish column call comey resign outdon time editori claim scandal realli attack women jame carvil appear msnbc remind everyon still aliv insan accus comey coordin hous republican kgb thought vast right wing conspiraci stretch countless media stori charg comey violat procedur know procedur violat email classifi inform store bathroom server senat harri reid sent comey letter accus violat hatch act hatch act nice idea much relev age obama tenth amend cabl news spectrum quickli fill media hack glanc wikipedia articl hatch act tabl accus fbi director one awkward conspiraci hillari ever jame comey realli hurt hillari pick one hell strang way long ago democrat breath sigh relief gave hillari clinton pass promin public statement realli elect trump keep email scandal go trash investig payrol hous republican kgb back play coy sudden develop vladimir putin paul ryan talk take look anthoni weiner comput either comey cun fbi director ever live awkwardli tri navig polit mess trap doj leadership whose polit futur tie hillari victori bureau whose apolit agent want allow job truli mysteri thing hillari associ decid go war respect feder agenc american like fbi hillari clinton enjoy 60 unfavor rate interest question hillari old strategi lie deni fbi even crimin investig underway instead associ insist secur review fbi correct shrug old breezi denial approach given way savag assault fbi pretend noth wrong bad strategi better one pick fight fbi lunat clinton associ tri claim fbi realli kgb two possibl explan hillari clinton might arrog enough lash fbi believ victori near kind hubri led plan victori firework display could lead declar war fbi irrit final mile campaign explan peopl panick go war fbi behavior smart focus presidenti campaign act desper presidenti candid decid option tri destroy credibl fbi hubri fear fbi might reveal origin fbi investig hillari clinton confid could ride good reason believ hillari clinton gone place paranoid wreck within short space time posit clinton campaign promis unit countri replac desper flail oper focus energi fight fbi one reason bizarr behavior clinton campaign decid fbi investig latest batch email pose threat surviv gone fight fbi unpreced step born fear hard know whether fear justifi exist fear alreadi tell us whole lot clinton loyalist rig old investig knew outcom ahead time well knew debat question suddenli longer control afraid smell fear fbi wiretap investig clinton foundat find new email time clintonworld panick spinmeist clintonworld claim email scandal much smoke without fire appear improprieti without substanc react smoke respond fire misguid assault fbi tell us hillari clinton alli afraid revel bigger fundament illeg email setup email setup preemptiv cover clinton campaign panick badli belief right wrong whatev crime illeg setup meant cover risk expos clinton weather countless scandal year whatev protect time around bigger usual corrupt briberi sexual assault abus power follow around throughout year bigger damag alleg alreadi come want fbi investig anywher near campaign comey pure intimid also warn senior fbi peopl valu career warn stay away democrat close rank around nomine fbi ugli unpreced scene may also last stand hillari clinton awkwardli wound way numer scandal elect cycl never shown fear desper chang whatev afraid lie buri email huma abedin bring like noth els\n"
     ]
    }
   ],
   "source": [
    "print(News['preprocessed_text'].iloc[0])"
   ]
  },
  {
   "cell_type": "code",
   "execution_count": null,
   "id": "b820e526",
   "metadata": {},
   "outputs": [],
   "source": []
  }
 ],
 "metadata": {
  "kernelspec": {
   "display_name": "Python 3 (ipykernel)",
   "language": "python",
   "name": "python3"
  },
  "language_info": {
   "codemirror_mode": {
    "name": "ipython",
    "version": 3
   },
   "file_extension": ".py",
   "mimetype": "text/x-python",
   "name": "python",
   "nbconvert_exporter": "python",
   "pygments_lexer": "ipython3",
   "version": "3.10.7"
  }
 },
 "nbformat": 4,
 "nbformat_minor": 5
}
